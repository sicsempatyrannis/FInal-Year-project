{
 "metadata": {
  "language_info": {
   "codemirror_mode": {
    "name": "ipython",
    "version": 3
   },
   "file_extension": ".py",
   "mimetype": "text/x-python",
   "name": "python",
   "nbconvert_exporter": "python",
   "pygments_lexer": "ipython3",
   "version": "3.8.3-final"
  },
  "orig_nbformat": 2,
  "kernelspec": {
   "name": "python_defaultSpec_1600824583487",
   "display_name": "Python 3.8.3 64-bit ('base': conda)"
  }
 },
 "nbformat": 4,
 "nbformat_minor": 2,
 "cells": [
  {
   "cell_type": "code",
   "execution_count": 1,
   "metadata": {},
   "outputs": [],
   "source": [
    "import numpy as np\n",
    "from Bio import SeqIO\n",
    "from sklearn.model_selection import train_test_split\n",
    "from math import factorial\n",
    "from itertools import groupby\n",
    "import itertools"
   ]
  },
  {
   "cell_type": "code",
   "execution_count": 2,
   "metadata": {},
   "outputs": [],
   "source": [
    "def rough_sets(genome_dataset):\n",
    "    '''Return the each triplet's generation, \n",
    "       positions and rule set'''\n",
    "\n",
    "    poss_nucs = ['A', 'C', 'G', 'T']\n",
    "    generation_track_same = {}\n",
    "    generation_track_diff = {}\n",
    "    count_same = 0\n",
    "    count_diff = 0\n",
    "    for n, gene in enumerate(genome_dataset):\n",
    "        rule_sets_same = {}\n",
    "        rule_sets_diff = {}\n",
    "        # rule_track = np.zeros(24, dtype=float) \n",
    "        index_track_same = {}\n",
    "        index_track_diff = {}\n",
    "        for m, nuc in enumerate(gene):             \n",
    "            if nuc == next_gen(n, genome_dataset, m):\n",
    "                for t, leo in enumerate(gene):\n",
    "                    if t != m:\n",
    "                        if leo == next_gen(n, genome_dataset, t):\n",
    "                            count_same += 1\n",
    "                            if t in index_track_same.keys():                                \n",
    "                                index_track_same[t] += update_probs(poss_nucs, 3, leo)\n",
    "                            else:\n",
    "                                index_track_same[t] = update_probs(poss_nucs, 3, leo)\n",
    "                    \n",
    "                rule_sets_same[m] = index_track_same\n",
    "\n",
    "            if nuc != next_gen(n, genome_dataset, m):\n",
    "                # print('here')\n",
    "                for r, rna in enumerate(gene):\n",
    "                    if r != m:\n",
    "                        if rna != next_gen(n, genome_dataset, r):\n",
    "                            count_diff += 1\n",
    "                            if r in index_track_diff.keys():                                \n",
    "                                index_track_diff[r] += update_probs(poss_nucs, 3, rna)\n",
    "                            else:\n",
    "                                index_track_diff[r] = update_probs(poss_nucs, 3, rna)\n",
    "\n",
    "                rule_sets_diff[m] = index_track_diff\n",
    "                \n",
    "\n",
    "        generation_track_same[n+1] = rule_sets_same\n",
    "        generation_track_diff[n+1] = rule_sets_diff\n",
    "\n",
    "    return generation_track_same, generation_track_diff, count_same, count_diff\n",
    "\n",
    "def next_gen(current_gen, genome, pos):\n",
    "    '''Checks there is a next generation\n",
    "        on which to run the loop and returns\n",
    "        that positions codon'''\n",
    "    if current_gen + 1 == len(genome):\n",
    "        return False\n",
    "    else:\n",
    "        return genome[current_gen + 1][pos]\n",
    "\n",
    "def update_probs(nucleotides, seq_len, pred_triplet):\n",
    "    '''Updates counts of each triple codon in \n",
    "        rule track list'''\n",
    "\n",
    "    # poss_combinatons = triplet_codon(sorted(itertools.product(nucleotides, repeat=seq_len)))\n",
    "    # print(poss_combinatons) \n",
    "    \n",
    "    prob_nuc = np.zeros(len(nucleotides), dtype=float)\n",
    "\n",
    "    for i, nucleotide in enumerate(nucleotides):\n",
    "        # print(nucleotide)\n",
    "        if nucleotide == pred_triplet:\n",
    "            # print('worked')\n",
    "            prob_nuc[i] = 1\n",
    "    # print(prob_nuc)\n",
    "\n",
    "    return prob_nuc\n",
    "\n",
    "def fasta_to_list(fa):\n",
    "    '''Converts fasta files into lists'''\n",
    "    genetic_data = []\n",
    "\n",
    "    for record in SeqIO.parse(fa, \"fasta\"):\n",
    "        genetic_data.append(list(record.seq))\n",
    "\n",
    "    genetic_sorted = []\n",
    "\n",
    "    for i in genetic_data:\n",
    "        if set(i) == {'G', 'T', 'C', 'A'}:\n",
    "            genetic_sorted.append(i)\n",
    "\n",
    "    return genetic_sorted\n",
    "\n",
    "def triplet_codon(A):\n",
    "    '''Converts list of individual nucleotides into \n",
    "        triplet codons'''\n",
    "    new_list = []\n",
    "    for fem in A:\n",
    "        triplet = [ x+y+z for x,y,z in zip(fem[0::3], fem[1::3], fem[2::3]) ]\n",
    "        new_list.append(triplet)\n",
    "    return new_list\n",
    "\n",
    "def split_data(gen_data):\n",
    "    '''Splits data list into two equal parts'''\n",
    "    x = []\n",
    "    y = []\n",
    "    split_polymerase = int(len(gen_data)/2)\n",
    "    x = gen_data[:split_polymerase]\n",
    "    y = gen_data[len(x):]\n",
    "    # len(x), len(y)\n",
    "\n",
    "    # x_train, x_test, y_train, y_test = train_test_split(x, y)\n",
    "\n",
    "    return x, y[:len(x)]\n",
    "\n",
    "def groupby_len(gene_seqs):\n",
    "    return [list(g[1]) for g in groupby(sorted(gene_seqs, key=len), len)]\n",
    "\n",
    "def predict(gen_dict_same, gen_dict_diff, genome_dataset):\n",
    "    poss_nucs = ['A', 'C', 'G', 'T']\n",
    "\n",
    "    same_keys = [pos for pos in gen_dict_same[1].keys()]\n",
    "    diff_keys = [gem for gem in gen_dict_diff[1].keys()]\n",
    "\n",
    "    next_seq = np.empty(len(genome_dataset[0]), dtype=str)\n",
    "\n",
    "    for j in same_keys:\n",
    "        next_seq[j] = genome_dataset[0][j]\n",
    "\n",
    "    for t in diff_keys:\n",
    "        next_seq[t] = poss_nucs[np.argmax(gen_dict_diff[1][diff_keys[0]][t])]\n",
    "        \n",
    "    return next_seq\n",
    "    \n",
    "\n",
    "    "
   ]
  },
  {
   "cell_type": "code",
   "execution_count": 21,
   "metadata": {},
   "outputs": [],
   "source": [
    "bundi_ebola_y = fasta_to_list('Bundibugyo ebola Human.fa')"
   ]
  },
  {
   "cell_type": "code",
   "execution_count": 26,
   "metadata": {
    "tags": []
   },
   "outputs": [
    {
     "output_type": "stream",
     "name": "stdout",
     "text": "7 0\n7 1\n1 2\n2 3\n7 4\n7 5\n3 6\n2 7\n5 8\n7 9\n7 10\n"
    }
   ],
   "source": [
    "for k in range(len(groupby_len(bundi_ebola_y))):\n",
    "    print(len(groupby_len(bundi_ebola_y)[k]), k)\n"
   ]
  },
  {
   "cell_type": "code",
   "execution_count": 48,
   "metadata": {},
   "outputs": [
    {
     "output_type": "execute_result",
     "data": {
      "text/plain": "7"
     },
     "metadata": {},
     "execution_count": 48
    }
   ],
   "source": [
    "len(groupby_len(bundi_ebola_y)[5])"
   ]
  },
  {
   "cell_type": "code",
   "execution_count": 39,
   "metadata": {
    "tags": []
   },
   "outputs": [],
   "source": [
    "test_1_same, test_1_diff, test_same, test_diff = rough_sets(groupby_len(bundi_ebola_y)[5][:-1])"
   ]
  },
  {
   "cell_type": "code",
   "execution_count": 40,
   "metadata": {},
   "outputs": [],
   "source": [
    "test_predict = predict(test_1_same, test_1_diff, groupby_len(bundi_ebola_y)[5][:-1])"
   ]
  },
  {
   "cell_type": "code",
   "execution_count": 41,
   "metadata": {},
   "outputs": [
    {
     "output_type": "execute_result",
     "data": {
      "text/plain": "(1026, 1026)"
     },
     "metadata": {},
     "execution_count": 41
    }
   ],
   "source": [
    "len(test_predict), len(groupby_len(bundi_ebola_y)[5][0])"
   ]
  },
  {
   "cell_type": "code",
   "execution_count": 49,
   "metadata": {
    "tags": []
   },
   "outputs": [],
   "source": [
    "count = 0 \n",
    "for f, j in enumerate(groupby_len(bundi_ebola_y)[5][6]):\n",
    "    \n",
    "    # print(j)\n",
    "    # print(test_predict[f])\n",
    "    if test_predict[f] == j:\n",
    "        count += 1\n"
   ]
  },
  {
   "cell_type": "code",
   "execution_count": 54,
   "metadata": {},
   "outputs": [],
   "source": [
    "acc = count/len(test_predict)\n",
    "acc = [acc]"
   ]
  },
  {
   "cell_type": "code",
   "execution_count": 56,
   "metadata": {},
   "outputs": [],
   "source": [
    "def list_txt(A, filename):\n",
    "    with open(filename, 'w') as f:\n",
    "        for exp in A:\n",
    "            f.write(str(exp))\n",
    "list_txt(acc, 'Rough set metrics.txt')          "
   ]
  }
 ]
}